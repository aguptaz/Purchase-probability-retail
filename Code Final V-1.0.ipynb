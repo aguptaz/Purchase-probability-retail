{
 "cells": [
  {
   "cell_type": "markdown",
   "metadata": {},
   "source": [
    "<div class=\"alert alert-block alert-success\">\n",
    "    \n",
    "### Below steps are followed from Feature engineering to modeling\n",
    "    \n",
    "A. **feature engineering** \n",
    "    \n",
    "1. time Spend on a page is calculated for a user .\n",
    "     \n",
    "2. time spend on a page(in minute) is the difference of next page click timing and current page click timing.\n",
    "     \n",
    "3. few places this minute value is too high ,with the help of histogram i have repaced high value with (3rd quantile +            1.5*IQR)\n",
    "     \n",
    "4. Number of  click on a page by a user.\n",
    "   \n",
    "5. Next , aggregated data at user level where time spend and number of click are there for each page type and marked as        the feature\n",
    "  \n",
    "B. **Target and feature selection**\n",
    "    \n",
    "1. from behaviour data we have user_id in row with time spend and number of click for each page in columns\n",
    "    \n",
    "2. Merge conversion data with behaviour data on user_id key, where every user which is  there in conversion data i have        labeled that as 1 (purchased) else 0.\n",
    "    \n",
    "3. classes are not balanced,so upsampladed postive class by repeting this class by 11 times. \n",
    "\n",
    "C. **Model selection**\n",
    "1. Tried linear and non linear model ,in case of random forest there is  imporoved R2 and F-score. \n",
    "     \n",
    "D. **Model evaluation**\n",
    "    \n",
    "1. F-score are R2 are used to evaluate the models\n",
    "   \n",
    "    \n"
   ]
  },
  {
   "cell_type": "code",
   "execution_count": 10,
   "metadata": {},
   "outputs": [],
   "source": [
    "import pandas as pd\n",
    "import numpy as np\n",
    "import matplotlib.pyplot as plt\n",
    "import seaborn as sns\n",
    "\n",
    "from sklearn.model_selection import train_test_split\n",
    "from sklearn.linear_model import LogisticRegression\n",
    "from sklearn.tree import DecisionTreeClassifier\n",
    "from sklearn.ensemble import RandomForestClassifier\n",
    "\n",
    "from sklearn.metrics import confusion_matrix,r2_score,precision_score,recall_score,f1_score\n",
    "\n",
    "from sklearn.model_selection import GridSearchCV"
   ]
  },
  {
   "cell_type": "markdown",
   "metadata": {},
   "source": [
    "#### Data import"
   ]
  },
  {
   "cell_type": "code",
   "execution_count": 14,
   "metadata": {},
   "outputs": [],
   "source": [
    "# import browsing behavior data\n",
    "behaviour=pd.read_csv(\"Problem2_Site_BrowingBehavior\",sep=\"\\t\",header=None)\n",
    "\n",
    "# import conversion data\n",
    "conversion=pd.read_csv(\"Problem2_FInalConversions\",sep=\"\\t\",header=None)"
   ]
  },
  {
   "cell_type": "code",
   "execution_count": null,
   "metadata": {},
   "outputs": [],
   "source": []
  },
  {
   "cell_type": "code",
   "execution_count": 15,
   "metadata": {},
   "outputs": [],
   "source": [
    "# add header to dataframe\n",
    "behaviour.columns=[\"time_stamp\",\"user_id\",\"site_section\"]\n",
    "conversion.columns=[\"time_stamp\",\"user_id\",\"prod_id\",\"cart_overall\"]"
   ]
  },
  {
   "cell_type": "code",
   "execution_count": 16,
   "metadata": {},
   "outputs": [
    {
     "data": {
      "text/html": [
       "<div>\n",
       "<style scoped>\n",
       "    .dataframe tbody tr th:only-of-type {\n",
       "        vertical-align: middle;\n",
       "    }\n",
       "\n",
       "    .dataframe tbody tr th {\n",
       "        vertical-align: top;\n",
       "    }\n",
       "\n",
       "    .dataframe thead th {\n",
       "        text-align: right;\n",
       "    }\n",
       "</style>\n",
       "<table border=\"1\" class=\"dataframe\">\n",
       "  <thead>\n",
       "    <tr style=\"text-align: right;\">\n",
       "      <th></th>\n",
       "      <th>time_stamp</th>\n",
       "      <th>user_id</th>\n",
       "      <th>site_section</th>\n",
       "    </tr>\n",
       "  </thead>\n",
       "  <tbody>\n",
       "    <tr>\n",
       "      <th>0</th>\n",
       "      <td>2017-07-26 00:01:40.965</td>\n",
       "      <td>0</td>\n",
       "      <td>product</td>\n",
       "    </tr>\n",
       "  </tbody>\n",
       "</table>\n",
       "</div>"
      ],
      "text/plain": [
       "                time_stamp  user_id site_section\n",
       "0  2017-07-26 00:01:40.965        0      product"
      ]
     },
     "execution_count": 16,
     "metadata": {},
     "output_type": "execute_result"
    }
   ],
   "source": [
    "behaviour.head(1)"
   ]
  },
  {
   "cell_type": "code",
   "execution_count": 17,
   "metadata": {},
   "outputs": [
    {
     "data": {
      "text/html": [
       "<div>\n",
       "<style scoped>\n",
       "    .dataframe tbody tr th:only-of-type {\n",
       "        vertical-align: middle;\n",
       "    }\n",
       "\n",
       "    .dataframe tbody tr th {\n",
       "        vertical-align: top;\n",
       "    }\n",
       "\n",
       "    .dataframe thead th {\n",
       "        text-align: right;\n",
       "    }\n",
       "</style>\n",
       "<table border=\"1\" class=\"dataframe\">\n",
       "  <thead>\n",
       "    <tr style=\"text-align: right;\">\n",
       "      <th></th>\n",
       "      <th>time_stamp</th>\n",
       "      <th>user_id</th>\n",
       "      <th>prod_id</th>\n",
       "      <th>cart_overall</th>\n",
       "    </tr>\n",
       "  </thead>\n",
       "  <tbody>\n",
       "    <tr>\n",
       "      <th>0</th>\n",
       "      <td>2017-07-26 00:00:10.465</td>\n",
       "      <td>0</td>\n",
       "      <td>A293532</td>\n",
       "      <td>52.14</td>\n",
       "    </tr>\n",
       "  </tbody>\n",
       "</table>\n",
       "</div>"
      ],
      "text/plain": [
       "                time_stamp  user_id  prod_id  cart_overall\n",
       "0  2017-07-26 00:00:10.465        0  A293532         52.14"
      ]
     },
     "execution_count": 17,
     "metadata": {},
     "output_type": "execute_result"
    }
   ],
   "source": [
    "\n",
    "conversion.head(1)"
   ]
  },
  {
   "cell_type": "code",
   "execution_count": 51,
   "metadata": {},
   "outputs": [
    {
     "data": {
      "text/plain": [
       "product                     1855680\n",
       "product-listing-category     823365\n",
       "home                         752124\n",
       "default                      552025\n",
       "content                      488874\n",
       "iroa                         428497\n",
       "cart                         323325\n",
       "product-listing-search       262481\n",
       "shoplive                      35810\n",
       "productNotFound                9333\n",
       "product-listing-custom         2970\n",
       "signupcomplete                 1312\n",
       "mys                              63\n",
       "error                            60\n",
       "lorigreiner                       3\n",
       "wishlist                          1\n",
       "category                          1\n",
       "Name: site_section, dtype: int64"
      ]
     },
     "execution_count": 51,
     "metadata": {},
     "output_type": "execute_result"
    }
   ],
   "source": [
    "# page wise instances across data set\n",
    "\n",
    "behaviour.site_section.value_counts()"
   ]
  },
  {
   "cell_type": "markdown",
   "metadata": {},
   "source": [
    "######  timestamp formating and conversion in datetime dtype"
   ]
  },
  {
   "cell_type": "code",
   "execution_count": 52,
   "metadata": {},
   "outputs": [],
   "source": [
    "# remove number after seconds \n",
    "behaviour.time_stamp=behaviour.time_stamp.map(lambda x :x[0:19])\n",
    "conversion.time_stamp=conversion.time_stamp.map(lambda x :x[0:19])\n",
    "\n",
    "#covert time stamp string into datetime format\n",
    "behaviour.time_stamp=pd.to_datetime(behaviour.time_stamp,errors='coerce')\n",
    "conversion.time_stamp=pd.to_datetime(conversion.time_stamp,errors='coerce')"
   ]
  },
  {
   "cell_type": "code",
   "execution_count": 53,
   "metadata": {},
   "outputs": [
    {
     "name": "stdout",
     "output_type": "stream",
     "text": [
      "(5535924, 3)\n",
      "(4128028, 3)\n",
      "(4128025, 3)\n"
     ]
    }
   ],
   "source": [
    "print(behaviour.shape)\n",
    "\n",
    "# remove invalid user_id with 0,2,5 label\n",
    "\n",
    "behaviour=behaviour[~behaviour.user_id.isin([\"0\",\"2\",\"5\"])]\n",
    "print(behaviour.shape)\n",
    "\n",
    "# removing categories and lorigreiner ,it has 1and 2 and 3 instance in whole data\n",
    "behaviour=behaviour[~behaviour.site_section.isin([\"category\",\"lorigreiner\"])]\n",
    "print(behaviour.shape)"
   ]
  },
  {
   "cell_type": "markdown",
   "metadata": {},
   "source": [
    "# 1. Feature engineering"
   ]
  },
  {
   "cell_type": "markdown",
   "metadata": {},
   "source": [
    "#### #  Feature creation from browsing data"
   ]
  },
  {
   "cell_type": "markdown",
   "metadata": {},
   "source": [
    "###### Aggregation at user id \n",
    "   1. time stay on a page is calculated as  next page click time minus current page click time"
   ]
  },
  {
   "cell_type": "code",
   "execution_count": 54,
   "metadata": {},
   "outputs": [],
   "source": [
    "behaviour=behaviour.sort_values([\"user_id\",\"time_stamp\"],ascending=True)\n",
    "# added next page click to calculate the time difference \n",
    "behaviour[\"next_page_visit_time\"]=behaviour.groupby([\"user_id\"]).time_stamp.shift(-1)\n",
    "\n",
    "# time spend on each page in second\n",
    "behaviour[\"time_spent_page\"]= (behaviour[\"next_page_visit_time\"]-behaviour[\"time_stamp\"]).map(lambda x: x.seconds/60)\n",
    "\n",
    "# fill missing value(where we dont have next page click  info of user) as mediam time spend of an individual user \n",
    "behaviour[\"time_spent_page\"]=behaviour.groupby(\"user_id\")[\"time_spent_page\"].transform(lambda x: x.fillna(x.median()))\n",
    "\n",
    "# replace high time spend value to q3+1.5(IQR) (because of skewness in time spend data on a page)\n",
    "\n",
    "# 3rd quantile\n",
    "q3=behaviour[\"time_spent_page\"].quantile(.75)\n",
    "# 1st quantile\n",
    "q1=behaviour[\"time_spent_page\"].quantile(.25)\n",
    "IQR=q3-q1\n",
    "\n",
    "behaviour[\"time_spent_page\"]=np.where(behaviour[\"time_spent_page\"]>(q3+1.5*IQR),(q3+1.5*IQR),behaviour[\"time_spent_page\"])"
   ]
  },
  {
   "cell_type": "code",
   "execution_count": 55,
   "metadata": {},
   "outputs": [
    {
     "data": {
      "text/html": [
       "<div>\n",
       "<style scoped>\n",
       "    .dataframe tbody tr th:only-of-type {\n",
       "        vertical-align: middle;\n",
       "    }\n",
       "\n",
       "    .dataframe tbody tr th {\n",
       "        vertical-align: top;\n",
       "    }\n",
       "\n",
       "    .dataframe thead th {\n",
       "        text-align: right;\n",
       "    }\n",
       "</style>\n",
       "<table border=\"1\" class=\"dataframe\">\n",
       "  <thead>\n",
       "    <tr style=\"text-align: right;\">\n",
       "      <th></th>\n",
       "      <th>time_stamp</th>\n",
       "      <th>user_id</th>\n",
       "      <th>site_section</th>\n",
       "      <th>next_page_visit_time</th>\n",
       "      <th>time_spent_page</th>\n",
       "    </tr>\n",
       "  </thead>\n",
       "  <tbody>\n",
       "    <tr>\n",
       "      <th>135522</th>\n",
       "      <td>2017-07-26 00:36:06</td>\n",
       "      <td>342391</td>\n",
       "      <td>product</td>\n",
       "      <td>2017-07-26 06:31:33</td>\n",
       "      <td>3.508333</td>\n",
       "    </tr>\n",
       "    <tr>\n",
       "      <th>1963729</th>\n",
       "      <td>2017-07-26 06:31:33</td>\n",
       "      <td>342391</td>\n",
       "      <td>home</td>\n",
       "      <td>2017-07-26 06:32:15</td>\n",
       "      <td>0.700000</td>\n",
       "    </tr>\n",
       "    <tr>\n",
       "      <th>1879859</th>\n",
       "      <td>2017-07-26 06:32:15</td>\n",
       "      <td>342391</td>\n",
       "      <td>product</td>\n",
       "      <td>2017-07-26 06:45:04</td>\n",
       "      <td>3.508333</td>\n",
       "    </tr>\n",
       "    <tr>\n",
       "      <th>1879860</th>\n",
       "      <td>2017-07-26 06:45:04</td>\n",
       "      <td>342391</td>\n",
       "      <td>home</td>\n",
       "      <td>2017-07-26 18:02:29</td>\n",
       "      <td>3.508333</td>\n",
       "    </tr>\n",
       "    <tr>\n",
       "      <th>3959169</th>\n",
       "      <td>2017-07-26 18:02:29</td>\n",
       "      <td>342391</td>\n",
       "      <td>home</td>\n",
       "      <td>2017-07-26 18:02:40</td>\n",
       "      <td>0.183333</td>\n",
       "    </tr>\n",
       "    <tr>\n",
       "      <th>3936133</th>\n",
       "      <td>2017-07-26 18:02:40</td>\n",
       "      <td>342391</td>\n",
       "      <td>product</td>\n",
       "      <td>2017-07-26 20:51:35</td>\n",
       "      <td>3.508333</td>\n",
       "    </tr>\n",
       "    <tr>\n",
       "      <th>4431083</th>\n",
       "      <td>2017-07-26 20:51:35</td>\n",
       "      <td>342391</td>\n",
       "      <td>home</td>\n",
       "      <td>NaT</td>\n",
       "      <td>3.508333</td>\n",
       "    </tr>\n",
       "    <tr>\n",
       "      <th>490121</th>\n",
       "      <td>2017-07-26 01:59:00</td>\n",
       "      <td>420372</td>\n",
       "      <td>product</td>\n",
       "      <td>2017-07-26 01:59:07</td>\n",
       "      <td>0.116667</td>\n",
       "    </tr>\n",
       "    <tr>\n",
       "      <th>490122</th>\n",
       "      <td>2017-07-26 01:59:07</td>\n",
       "      <td>420372</td>\n",
       "      <td>product</td>\n",
       "      <td>NaT</td>\n",
       "      <td>0.116667</td>\n",
       "    </tr>\n",
       "    <tr>\n",
       "      <th>4747852</th>\n",
       "      <td>2017-07-26 20:48:30</td>\n",
       "      <td>915687</td>\n",
       "      <td>home</td>\n",
       "      <td>2017-07-26 20:48:38</td>\n",
       "      <td>0.133333</td>\n",
       "    </tr>\n",
       "  </tbody>\n",
       "</table>\n",
       "</div>"
      ],
      "text/plain": [
       "                 time_stamp  user_id site_section next_page_visit_time  \\\n",
       "135522  2017-07-26 00:36:06   342391      product  2017-07-26 06:31:33   \n",
       "1963729 2017-07-26 06:31:33   342391         home  2017-07-26 06:32:15   \n",
       "1879859 2017-07-26 06:32:15   342391      product  2017-07-26 06:45:04   \n",
       "1879860 2017-07-26 06:45:04   342391         home  2017-07-26 18:02:29   \n",
       "3959169 2017-07-26 18:02:29   342391         home  2017-07-26 18:02:40   \n",
       "3936133 2017-07-26 18:02:40   342391      product  2017-07-26 20:51:35   \n",
       "4431083 2017-07-26 20:51:35   342391         home                  NaT   \n",
       "490121  2017-07-26 01:59:00   420372      product  2017-07-26 01:59:07   \n",
       "490122  2017-07-26 01:59:07   420372      product                  NaT   \n",
       "4747852 2017-07-26 20:48:30   915687         home  2017-07-26 20:48:38   \n",
       "\n",
       "         time_spent_page  \n",
       "135522          3.508333  \n",
       "1963729         0.700000  \n",
       "1879859         3.508333  \n",
       "1879860         3.508333  \n",
       "3959169         0.183333  \n",
       "3936133         3.508333  \n",
       "4431083         3.508333  \n",
       "490121          0.116667  \n",
       "490122          0.116667  \n",
       "4747852         0.133333  "
      ]
     },
     "execution_count": 55,
     "metadata": {},
     "output_type": "execute_result"
    }
   ],
   "source": [
    "behaviour.head(10)"
   ]
  },
  {
   "cell_type": "code",
   "execution_count": 56,
   "metadata": {},
   "outputs": [
    {
     "data": {
      "text/plain": [
       "<AxesSubplot:>"
      ]
     },
     "execution_count": 56,
     "metadata": {},
     "output_type": "execute_result"
    },
    {
     "data": {
      "image/png": "[encoded data removed]",
      "text/plain": [
       "<Figure size 432x288 with 1 Axes>"
      ]
     },
     "metadata": {
      "needs_background": "light"
     },
     "output_type": "display_data"
    }
   ],
   "source": [
    "# hist of time spend\n",
    "behaviour.time_spent_page.hist(bins=10)"
   ]
  },
  {
   "cell_type": "code",
   "execution_count": 57,
   "metadata": {},
   "outputs": [
    {
     "data": {
      "text/plain": [
       "<AxesSubplot:xlabel='site_section'>"
      ]
     },
     "execution_count": 57,
     "metadata": {},
     "output_type": "execute_result"
    },
    {
     "data": {
      "image/png": "[encoded data removed]",
      "text/plain": [
       "<Figure size 432x288 with 1 Axes>"
      ]
     },
     "metadata": {
      "needs_background": "light"
     },
     "output_type": "display_data"
    }
   ],
   "source": [
    "behaviour.groupby([\"site_section\"])[\"time_spent_page\"].count().plot(kind=\"bar\")"
   ]
  },
  {
   "cell_type": "code",
   "execution_count": 58,
   "metadata": {},
   "outputs": [],
   "source": [
    "# number of click on each page by an user\n",
    "behaviour[\"num_click_Page\"]=behaviour.groupby([\"user_id\",\"site_section\"])[\"time_stamp\"].transform(\"count\")"
   ]
  },
  {
   "cell_type": "code",
   "execution_count": 59,
   "metadata": {},
   "outputs": [
    {
     "data": {
      "text/html": [
       "<div>\n",
       "<style scoped>\n",
       "    .dataframe tbody tr th:only-of-type {\n",
       "        vertical-align: middle;\n",
       "    }\n",
       "\n",
       "    .dataframe tbody tr th {\n",
       "        vertical-align: top;\n",
       "    }\n",
       "\n",
       "    .dataframe thead th {\n",
       "        text-align: right;\n",
       "    }\n",
       "</style>\n",
       "<table border=\"1\" class=\"dataframe\">\n",
       "  <thead>\n",
       "    <tr style=\"text-align: right;\">\n",
       "      <th></th>\n",
       "      <th>time_stamp</th>\n",
       "      <th>user_id</th>\n",
       "      <th>site_section</th>\n",
       "      <th>next_page_visit_time</th>\n",
       "      <th>time_spent_page</th>\n",
       "      <th>num_click_Page</th>\n",
       "    </tr>\n",
       "  </thead>\n",
       "  <tbody>\n",
       "    <tr>\n",
       "      <th>135522</th>\n",
       "      <td>2017-07-26 00:36:06</td>\n",
       "      <td>342391</td>\n",
       "      <td>product</td>\n",
       "      <td>2017-07-26 06:31:33</td>\n",
       "      <td>3.508333</td>\n",
       "      <td>3</td>\n",
       "    </tr>\n",
       "    <tr>\n",
       "      <th>1963729</th>\n",
       "      <td>2017-07-26 06:31:33</td>\n",
       "      <td>342391</td>\n",
       "      <td>home</td>\n",
       "      <td>2017-07-26 06:32:15</td>\n",
       "      <td>0.700000</td>\n",
       "      <td>4</td>\n",
       "    </tr>\n",
       "  </tbody>\n",
       "</table>\n",
       "</div>"
      ],
      "text/plain": [
       "                 time_stamp  user_id site_section next_page_visit_time  \\\n",
       "135522  2017-07-26 00:36:06   342391      product  2017-07-26 06:31:33   \n",
       "1963729 2017-07-26 06:31:33   342391         home  2017-07-26 06:32:15   \n",
       "\n",
       "         time_spent_page  num_click_Page  \n",
       "135522          3.508333               3  \n",
       "1963729         0.700000               4  "
      ]
     },
     "execution_count": 59,
     "metadata": {},
     "output_type": "execute_result"
    }
   ],
   "source": [
    "behaviour.head(2)"
   ]
  },
  {
   "cell_type": "code",
   "execution_count": 60,
   "metadata": {
    "scrolled": true
   },
   "outputs": [
    {
     "name": "stdout",
     "output_type": "stream",
     "text": [
      "(4128025, 6)\n",
      "(1355840, 6)\n"
     ]
    }
   ],
   "source": [
    "# take site_section into columns and take time spend and Num of page visit as feature\n",
    "print(behaviour.shape)\n",
    "behaviour.drop_duplicates(subset=[\"user_id\",\"site_section\"],inplace=True)\n",
    "print(behaviour.shape)"
   ]
  },
  {
   "cell_type": "code",
   "execution_count": 61,
   "metadata": {},
   "outputs": [],
   "source": [
    "# change number of click into columns for each different page \n",
    "page_click=behaviour.pivot(index=\"user_id\",columns=\"site_section\",values=\"num_click_Page\").reset_index()\n",
    "page_click.fillna(value=0,inplace=True)\n"
   ]
  },
  {
   "cell_type": "code",
   "execution_count": 62,
   "metadata": {},
   "outputs": [
    {
     "data": {
      "text/html": [
       "<div>\n",
       "<style scoped>\n",
       "    .dataframe tbody tr th:only-of-type {\n",
       "        vertical-align: middle;\n",
       "    }\n",
       "\n",
       "    .dataframe tbody tr th {\n",
       "        vertical-align: top;\n",
       "    }\n",
       "\n",
       "    .dataframe thead th {\n",
       "        text-align: right;\n",
       "    }\n",
       "</style>\n",
       "<table border=\"1\" class=\"dataframe\">\n",
       "  <thead>\n",
       "    <tr style=\"text-align: right;\">\n",
       "      <th></th>\n",
       "      <th>user_id_click</th>\n",
       "      <th>cart_click</th>\n",
       "      <th>content_click</th>\n",
       "      <th>default_click</th>\n",
       "      <th>error_click</th>\n",
       "      <th>home_click</th>\n",
       "      <th>iroa_click</th>\n",
       "      <th>mys_click</th>\n",
       "      <th>product_click</th>\n",
       "      <th>product-listing-category_click</th>\n",
       "      <th>product-listing-custom_click</th>\n",
       "      <th>product-listing-search_click</th>\n",
       "      <th>productNotFound_click</th>\n",
       "      <th>shoplive_click</th>\n",
       "      <th>signupcomplete_click</th>\n",
       "    </tr>\n",
       "  </thead>\n",
       "  <tbody>\n",
       "    <tr>\n",
       "      <th>0</th>\n",
       "      <td>342391</td>\n",
       "      <td>0.0</td>\n",
       "      <td>0.0</td>\n",
       "      <td>0.0</td>\n",
       "      <td>0.0</td>\n",
       "      <td>4.0</td>\n",
       "      <td>0.0</td>\n",
       "      <td>0.0</td>\n",
       "      <td>3.0</td>\n",
       "      <td>0.0</td>\n",
       "      <td>0.0</td>\n",
       "      <td>0.0</td>\n",
       "      <td>0.0</td>\n",
       "      <td>0.0</td>\n",
       "      <td>0.0</td>\n",
       "    </tr>\n",
       "  </tbody>\n",
       "</table>\n",
       "</div>"
      ],
      "text/plain": [
       "   user_id_click  cart_click  content_click  default_click  error_click  \\\n",
       "0         342391         0.0            0.0            0.0          0.0   \n",
       "\n",
       "   home_click  iroa_click  mys_click  product_click  \\\n",
       "0         4.0         0.0        0.0            3.0   \n",
       "\n",
       "   product-listing-category_click  product-listing-custom_click  \\\n",
       "0                             0.0                           0.0   \n",
       "\n",
       "   product-listing-search_click  productNotFound_click  shoplive_click  \\\n",
       "0                           0.0                    0.0             0.0   \n",
       "\n",
       "   signupcomplete_click  \n",
       "0                   0.0  "
      ]
     },
     "execution_count": 62,
     "metadata": {},
     "output_type": "execute_result"
    }
   ],
   "source": [
    "# rename columns \n",
    "page_click.columns=[col+\"_click\" for col in page_click.columns ]\n",
    "page_click.head(1)"
   ]
  },
  {
   "cell_type": "code",
   "execution_count": 63,
   "metadata": {},
   "outputs": [
    {
     "name": "stdout",
     "output_type": "stream",
     "text": [
      "(516927, 15)\n"
     ]
    },
    {
     "data": {
      "text/html": [
       "<div>\n",
       "<style scoped>\n",
       "    .dataframe tbody tr th:only-of-type {\n",
       "        vertical-align: middle;\n",
       "    }\n",
       "\n",
       "    .dataframe tbody tr th {\n",
       "        vertical-align: top;\n",
       "    }\n",
       "\n",
       "    .dataframe thead th {\n",
       "        text-align: right;\n",
       "    }\n",
       "</style>\n",
       "<table border=\"1\" class=\"dataframe\">\n",
       "  <thead>\n",
       "    <tr style=\"text-align: right;\">\n",
       "      <th></th>\n",
       "      <th>user_id_Time</th>\n",
       "      <th>cart_Time</th>\n",
       "      <th>content_Time</th>\n",
       "      <th>default_Time</th>\n",
       "      <th>error_Time</th>\n",
       "      <th>home_Time</th>\n",
       "      <th>iroa_Time</th>\n",
       "      <th>mys_Time</th>\n",
       "      <th>product_Time</th>\n",
       "      <th>product-listing-category_Time</th>\n",
       "      <th>product-listing-custom_Time</th>\n",
       "      <th>product-listing-search_Time</th>\n",
       "      <th>productNotFound_Time</th>\n",
       "      <th>shoplive_Time</th>\n",
       "      <th>signupcomplete_Time</th>\n",
       "    </tr>\n",
       "  </thead>\n",
       "  <tbody>\n",
       "    <tr>\n",
       "      <th>0</th>\n",
       "      <td>342391</td>\n",
       "      <td>0.0</td>\n",
       "      <td>0.0</td>\n",
       "      <td>0.0</td>\n",
       "      <td>0.0</td>\n",
       "      <td>0.7</td>\n",
       "      <td>0.0</td>\n",
       "      <td>0.0</td>\n",
       "      <td>3.508333</td>\n",
       "      <td>0.0</td>\n",
       "      <td>0.0</td>\n",
       "      <td>0.0</td>\n",
       "      <td>0.0</td>\n",
       "      <td>0.0</td>\n",
       "      <td>0.0</td>\n",
       "    </tr>\n",
       "  </tbody>\n",
       "</table>\n",
       "</div>"
      ],
      "text/plain": [
       "   user_id_Time  cart_Time  content_Time  default_Time  error_Time  home_Time  \\\n",
       "0        342391        0.0           0.0           0.0         0.0        0.7   \n",
       "\n",
       "   iroa_Time  mys_Time  product_Time  product-listing-category_Time  \\\n",
       "0        0.0       0.0      3.508333                            0.0   \n",
       "\n",
       "   product-listing-custom_Time  product-listing-search_Time  \\\n",
       "0                          0.0                          0.0   \n",
       "\n",
       "   productNotFound_Time  shoplive_Time  signupcomplete_Time  \n",
       "0                   0.0            0.0                  0.0  "
      ]
     },
     "execution_count": 63,
     "metadata": {},
     "output_type": "execute_result"
    }
   ],
   "source": [
    "# change time spend into columns for each different page \n",
    "time_spend=behaviour.pivot(index=\"user_id\",columns=\"site_section\",values=\"time_spent_page\").reset_index()\n",
    "time_spend.fillna(value=0,inplace=True)\n",
    "\n",
    "#rename\n",
    "time_spend.columns=[col+\"_Time\" for col in time_spend.columns ]\n",
    "print(time_spend.shape)\n",
    "time_spend.head(1)"
   ]
  },
  {
   "cell_type": "code",
   "execution_count": 64,
   "metadata": {},
   "outputs": [
    {
     "name": "stdout",
     "output_type": "stream",
     "text": [
      "(516927, 29)\n"
     ]
    },
    {
     "data": {
      "text/html": [
       "<div>\n",
       "<style scoped>\n",
       "    .dataframe tbody tr th:only-of-type {\n",
       "        vertical-align: middle;\n",
       "    }\n",
       "\n",
       "    .dataframe tbody tr th {\n",
       "        vertical-align: top;\n",
       "    }\n",
       "\n",
       "    .dataframe thead th {\n",
       "        text-align: right;\n",
       "    }\n",
       "</style>\n",
       "<table border=\"1\" class=\"dataframe\">\n",
       "  <thead>\n",
       "    <tr style=\"text-align: right;\">\n",
       "      <th></th>\n",
       "      <th>cart_click</th>\n",
       "      <th>content_click</th>\n",
       "      <th>default_click</th>\n",
       "      <th>error_click</th>\n",
       "      <th>home_click</th>\n",
       "      <th>iroa_click</th>\n",
       "      <th>mys_click</th>\n",
       "      <th>product_click</th>\n",
       "      <th>product-listing-category_click</th>\n",
       "      <th>product-listing-custom_click</th>\n",
       "      <th>...</th>\n",
       "      <th>home_Time</th>\n",
       "      <th>iroa_Time</th>\n",
       "      <th>mys_Time</th>\n",
       "      <th>product_Time</th>\n",
       "      <th>product-listing-category_Time</th>\n",
       "      <th>product-listing-custom_Time</th>\n",
       "      <th>product-listing-search_Time</th>\n",
       "      <th>productNotFound_Time</th>\n",
       "      <th>shoplive_Time</th>\n",
       "      <th>signupcomplete_Time</th>\n",
       "    </tr>\n",
       "  </thead>\n",
       "  <tbody>\n",
       "    <tr>\n",
       "      <th>0</th>\n",
       "      <td>0.0</td>\n",
       "      <td>0.0</td>\n",
       "      <td>0.0</td>\n",
       "      <td>0.0</td>\n",
       "      <td>4.0</td>\n",
       "      <td>0.0</td>\n",
       "      <td>0.0</td>\n",
       "      <td>3.0</td>\n",
       "      <td>0.0</td>\n",
       "      <td>0.0</td>\n",
       "      <td>...</td>\n",
       "      <td>0.7</td>\n",
       "      <td>0.0</td>\n",
       "      <td>0.0</td>\n",
       "      <td>3.508333</td>\n",
       "      <td>0.0</td>\n",
       "      <td>0.0</td>\n",
       "      <td>0.0</td>\n",
       "      <td>0.0</td>\n",
       "      <td>0.0</td>\n",
       "      <td>0.0</td>\n",
       "    </tr>\n",
       "  </tbody>\n",
       "</table>\n",
       "<p>1 rows × 29 columns</p>\n",
       "</div>"
      ],
      "text/plain": [
       "   cart_click  content_click  default_click  error_click  home_click  \\\n",
       "0         0.0            0.0            0.0          0.0         4.0   \n",
       "\n",
       "   iroa_click  mys_click  product_click  product-listing-category_click  \\\n",
       "0         0.0        0.0            3.0                             0.0   \n",
       "\n",
       "   product-listing-custom_click  ...  home_Time  iroa_Time  mys_Time  \\\n",
       "0                           0.0  ...        0.7        0.0       0.0   \n",
       "\n",
       "   product_Time  product-listing-category_Time  product-listing-custom_Time  \\\n",
       "0      3.508333                            0.0                          0.0   \n",
       "\n",
       "   product-listing-search_Time  productNotFound_Time  shoplive_Time  \\\n",
       "0                          0.0                   0.0            0.0   \n",
       "\n",
       "   signupcomplete_Time  \n",
       "0                  0.0  \n",
       "\n",
       "[1 rows x 29 columns]"
      ]
     },
     "execution_count": 64,
     "metadata": {},
     "output_type": "execute_result"
    }
   ],
   "source": [
    "# merge time spend variables with number of click variable \n",
    "behavior_user=page_click.merge(time_spend,left_on=\"user_id_click\",right_on=\"user_id_Time\")\n",
    "behavior_user.drop(labels=\"user_id_click\",inplace=True,axis=1)\n",
    "behavior_user.rename(columns={\"user_id_Time\":\"user_id\"},inplace=True)\n",
    "\n",
    "print(behavior_user.shape)\n",
    "\n",
    "behavior_user.head(1)"
   ]
  },
  {
   "cell_type": "markdown",
   "metadata": {},
   "source": [
    "### create target variable \n",
    "#### Merge  conversion data to behavior data"
   ]
  },
  {
   "cell_type": "code",
   "execution_count": 65,
   "metadata": {},
   "outputs": [
    {
     "data": {
      "text/html": [
       "<div>\n",
       "<style scoped>\n",
       "    .dataframe tbody tr th:only-of-type {\n",
       "        vertical-align: middle;\n",
       "    }\n",
       "\n",
       "    .dataframe tbody tr th {\n",
       "        vertical-align: top;\n",
       "    }\n",
       "\n",
       "    .dataframe thead th {\n",
       "        text-align: right;\n",
       "    }\n",
       "</style>\n",
       "<table border=\"1\" class=\"dataframe\">\n",
       "  <thead>\n",
       "    <tr style=\"text-align: right;\">\n",
       "      <th></th>\n",
       "      <th>time_stamp</th>\n",
       "      <th>user_id</th>\n",
       "      <th>prod_id</th>\n",
       "      <th>cart_overall</th>\n",
       "    </tr>\n",
       "  </thead>\n",
       "  <tbody>\n",
       "    <tr>\n",
       "      <th>0</th>\n",
       "      <td>2017-07-26 00:00:10</td>\n",
       "      <td>0</td>\n",
       "      <td>A293532</td>\n",
       "      <td>52.14</td>\n",
       "    </tr>\n",
       "  </tbody>\n",
       "</table>\n",
       "</div>"
      ],
      "text/plain": [
       "           time_stamp  user_id  prod_id  cart_overall\n",
       "0 2017-07-26 00:00:10        0  A293532         52.14"
      ]
     },
     "execution_count": 65,
     "metadata": {},
     "output_type": "execute_result"
    }
   ],
   "source": [
    "conversion.head(1)"
   ]
  },
  {
   "cell_type": "code",
   "execution_count": 66,
   "metadata": {},
   "outputs": [
    {
     "name": "stdout",
     "output_type": "stream",
     "text": [
      "(79795, 4)\n",
      "(41009, 4)\n"
     ]
    }
   ],
   "source": [
    "print(conversion.shape)\n",
    "conversion.drop_duplicates(subset=[\"user_id\"],inplace=True)\n",
    "print(conversion.shape)"
   ]
  },
  {
   "cell_type": "code",
   "execution_count": 67,
   "metadata": {},
   "outputs": [
    {
     "data": {
      "text/plain": [
       "(516927, 30)"
      ]
     },
     "execution_count": 67,
     "metadata": {},
     "output_type": "execute_result"
    }
   ],
   "source": [
    "final=behavior_user.merge(conversion[[\"user_id\",\"prod_id\"]],on=\"user_id\",how=\"left\")\n",
    "final_copy=final.copy(\"deep\")\n",
    "final.shape"
   ]
  },
  {
   "cell_type": "code",
   "execution_count": 68,
   "metadata": {},
   "outputs": [
    {
     "data": {
      "text/plain": [
       "cart_click                             0\n",
       "content_click                          0\n",
       "default_click                          0\n",
       "error_click                            0\n",
       "home_click                             0\n",
       "iroa_click                             0\n",
       "mys_click                              0\n",
       "product_click                          0\n",
       "product-listing-category_click         0\n",
       "product-listing-custom_click           0\n",
       "product-listing-search_click           0\n",
       "productNotFound_click                  0\n",
       "shoplive_click                         0\n",
       "signupcomplete_click                   0\n",
       "user_id                                0\n",
       "cart_Time                              0\n",
       "content_Time                           0\n",
       "default_Time                           0\n",
       "error_Time                             0\n",
       "home_Time                              0\n",
       "iroa_Time                              0\n",
       "mys_Time                               0\n",
       "product_Time                           0\n",
       "product-listing-category_Time          0\n",
       "product-listing-custom_Time            0\n",
       "product-listing-search_Time            0\n",
       "productNotFound_Time                   0\n",
       "shoplive_Time                          0\n",
       "signupcomplete_Time                    0\n",
       "prod_id                           476074\n",
       "dtype: int64"
      ]
     },
     "execution_count": 68,
     "metadata": {},
     "output_type": "execute_result"
    }
   ],
   "source": [
    "final.isna().sum()"
   ]
  },
  {
   "cell_type": "code",
   "execution_count": 69,
   "metadata": {},
   "outputs": [
    {
     "data": {
      "text/plain": [
       "cart_click                        float64\n",
       "content_click                     float64\n",
       "default_click                     float64\n",
       "error_click                       float64\n",
       "home_click                        float64\n",
       "iroa_click                        float64\n",
       "mys_click                         float64\n",
       "product_click                     float64\n",
       "product-listing-category_click    float64\n",
       "product-listing-custom_click      float64\n",
       "product-listing-search_click      float64\n",
       "productNotFound_click             float64\n",
       "shoplive_click                    float64\n",
       "signupcomplete_click              float64\n",
       "user_id                             int64\n",
       "cart_Time                         float64\n",
       "content_Time                      float64\n",
       "default_Time                      float64\n",
       "error_Time                        float64\n",
       "home_Time                         float64\n",
       "iroa_Time                         float64\n",
       "mys_Time                          float64\n",
       "product_Time                      float64\n",
       "product-listing-category_Time     float64\n",
       "product-listing-custom_Time       float64\n",
       "product-listing-search_Time       float64\n",
       "productNotFound_Time              float64\n",
       "shoplive_Time                     float64\n",
       "signupcomplete_Time               float64\n",
       "prod_id                            object\n",
       "dtype: object"
      ]
     },
     "execution_count": 69,
     "metadata": {},
     "output_type": "execute_result"
    }
   ],
   "source": [
    "final.dtypes"
   ]
  },
  {
   "cell_type": "markdown",
   "metadata": {},
   "source": [
    "#### Target variable creation"
   ]
  },
  {
   "cell_type": "code",
   "execution_count": 70,
   "metadata": {},
   "outputs": [],
   "source": [
    "# create target variable using product id \n",
    "# if customer buy product after browsering that is categorised as 1 else 0\n",
    "\n",
    "final[\"Purchased\"]=np.where(final.prod_id.notna(),1,0)\n",
    "# final[\"Purchased\"]=final[\"Purchased\"].astype(str)"
   ]
  },
  {
   "cell_type": "code",
   "execution_count": 71,
   "metadata": {},
   "outputs": [
    {
     "data": {
      "text/plain": [
       "cart_click                             0\n",
       "content_click                          0\n",
       "default_click                          0\n",
       "error_click                            0\n",
       "home_click                             0\n",
       "iroa_click                             0\n",
       "mys_click                              0\n",
       "product_click                          0\n",
       "product-listing-category_click         0\n",
       "product-listing-custom_click           0\n",
       "product-listing-search_click           0\n",
       "productNotFound_click                  0\n",
       "shoplive_click                         0\n",
       "signupcomplete_click                   0\n",
       "user_id                                0\n",
       "cart_Time                              0\n",
       "content_Time                           0\n",
       "default_Time                           0\n",
       "error_Time                             0\n",
       "home_Time                              0\n",
       "iroa_Time                              0\n",
       "mys_Time                               0\n",
       "product_Time                           0\n",
       "product-listing-category_Time          0\n",
       "product-listing-custom_Time            0\n",
       "product-listing-search_Time            0\n",
       "productNotFound_Time                   0\n",
       "shoplive_Time                          0\n",
       "signupcomplete_Time                    0\n",
       "prod_id                           476074\n",
       "Purchased                              0\n",
       "dtype: int64"
      ]
     },
     "execution_count": 71,
     "metadata": {},
     "output_type": "execute_result"
    }
   ],
   "source": [
    "final.isna().sum()"
   ]
  },
  {
   "cell_type": "code",
   "execution_count": 72,
   "metadata": {},
   "outputs": [],
   "source": [
    "# drop product id\n",
    "drop_col=[\"user_id\",\"prod_id\"]\n",
    "final.drop(labels=drop_col,axis=1,inplace=True)"
   ]
  },
  {
   "cell_type": "code",
   "execution_count": 73,
   "metadata": {},
   "outputs": [
    {
     "data": {
      "text/plain": [
       "<AxesSubplot:>"
      ]
     },
     "execution_count": 73,
     "metadata": {},
     "output_type": "execute_result"
    },
    {
     "data": {
      "image/png": "[encoded data removed]",
      "text/plain": [
       "<Figure size 1440x1440 with 2 Axes>"
      ]
     },
     "metadata": {
      "needs_background": "light"
     },
     "output_type": "display_data"
    }
   ],
   "source": [
    "plt.figure(figsize=(20,20))\n",
    "sns.heatmap(final.corr(),annot=True,fmt='.1f')"
   ]
  },
  {
   "cell_type": "code",
   "execution_count": 74,
   "metadata": {
    "scrolled": true
   },
   "outputs": [
    {
     "data": {
      "text/html": [
       "<div>\n",
       "<style scoped>\n",
       "    .dataframe tbody tr th:only-of-type {\n",
       "        vertical-align: middle;\n",
       "    }\n",
       "\n",
       "    .dataframe tbody tr th {\n",
       "        vertical-align: top;\n",
       "    }\n",
       "\n",
       "    .dataframe thead th {\n",
       "        text-align: right;\n",
       "    }\n",
       "</style>\n",
       "<table border=\"1\" class=\"dataframe\">\n",
       "  <thead>\n",
       "    <tr style=\"text-align: right;\">\n",
       "      <th></th>\n",
       "      <th>cart_click</th>\n",
       "      <th>content_click</th>\n",
       "      <th>default_click</th>\n",
       "      <th>error_click</th>\n",
       "      <th>home_click</th>\n",
       "      <th>iroa_click</th>\n",
       "      <th>mys_click</th>\n",
       "      <th>product_click</th>\n",
       "      <th>product-listing-category_click</th>\n",
       "      <th>product-listing-custom_click</th>\n",
       "      <th>...</th>\n",
       "      <th>iroa_Time</th>\n",
       "      <th>mys_Time</th>\n",
       "      <th>product_Time</th>\n",
       "      <th>product-listing-category_Time</th>\n",
       "      <th>product-listing-custom_Time</th>\n",
       "      <th>product-listing-search_Time</th>\n",
       "      <th>productNotFound_Time</th>\n",
       "      <th>shoplive_Time</th>\n",
       "      <th>signupcomplete_Time</th>\n",
       "      <th>Purchased</th>\n",
       "    </tr>\n",
       "  </thead>\n",
       "  <tbody>\n",
       "    <tr>\n",
       "      <th>0</th>\n",
       "      <td>0.0</td>\n",
       "      <td>0.0</td>\n",
       "      <td>0.0</td>\n",
       "      <td>0.0</td>\n",
       "      <td>4.0</td>\n",
       "      <td>0.0</td>\n",
       "      <td>0.0</td>\n",
       "      <td>3.0</td>\n",
       "      <td>0.0</td>\n",
       "      <td>0.0</td>\n",
       "      <td>...</td>\n",
       "      <td>0.0</td>\n",
       "      <td>0.0</td>\n",
       "      <td>3.508333</td>\n",
       "      <td>0.0</td>\n",
       "      <td>0.0</td>\n",
       "      <td>0.0</td>\n",
       "      <td>0.0</td>\n",
       "      <td>0.0</td>\n",
       "      <td>0.0</td>\n",
       "      <td>0</td>\n",
       "    </tr>\n",
       "  </tbody>\n",
       "</table>\n",
       "<p>1 rows × 29 columns</p>\n",
       "</div>"
      ],
      "text/plain": [
       "   cart_click  content_click  default_click  error_click  home_click  \\\n",
       "0         0.0            0.0            0.0          0.0         4.0   \n",
       "\n",
       "   iroa_click  mys_click  product_click  product-listing-category_click  \\\n",
       "0         0.0        0.0            3.0                             0.0   \n",
       "\n",
       "   product-listing-custom_click  ...  iroa_Time  mys_Time  product_Time  \\\n",
       "0                           0.0  ...        0.0       0.0      3.508333   \n",
       "\n",
       "   product-listing-category_Time  product-listing-custom_Time  \\\n",
       "0                            0.0                          0.0   \n",
       "\n",
       "   product-listing-search_Time  productNotFound_Time  shoplive_Time  \\\n",
       "0                          0.0                   0.0            0.0   \n",
       "\n",
       "   signupcomplete_Time  Purchased  \n",
       "0                  0.0          0  \n",
       "\n",
       "[1 rows x 29 columns]"
      ]
     },
     "execution_count": 74,
     "metadata": {},
     "output_type": "execute_result"
    }
   ],
   "source": [
    "final.head(1)"
   ]
  },
  {
   "cell_type": "code",
   "execution_count": 75,
   "metadata": {},
   "outputs": [
    {
     "data": {
      "text/plain": [
       "0    476074\n",
       "1     40853\n",
       "Name: Purchased, dtype: int64"
      ]
     },
     "execution_count": 75,
     "metadata": {},
     "output_type": "execute_result"
    }
   ],
   "source": [
    "# chaeck instances in each classes\n",
    "final.Purchased.value_counts()"
   ]
  },
  {
   "cell_type": "code",
   "execution_count": 76,
   "metadata": {},
   "outputs": [],
   "source": [
    "# take positive classes \n",
    "positive_class=final[final.Purchased==1]\n",
    "\n",
    "# repeat 11 time to macth the number of negative  class instances.\n",
    "\n",
    "positive_class=pd.concat([positive_class]*11,ignore_index=True)"
   ]
  },
  {
   "cell_type": "code",
   "execution_count": 77,
   "metadata": {},
   "outputs": [],
   "source": [
    "# upsampling \n",
    "final=final.append([positive_class],ignore_index=True)"
   ]
  },
  {
   "cell_type": "code",
   "execution_count": 78,
   "metadata": {},
   "outputs": [
    {
     "name": "stdout",
     "output_type": "stream",
     "text": [
      "(966310, 29)\n"
     ]
    },
    {
     "data": {
      "text/plain": [
       "1    490236\n",
       "0    476074\n",
       "Name: Purchased, dtype: int64"
      ]
     },
     "execution_count": 78,
     "metadata": {},
     "output_type": "execute_result"
    }
   ],
   "source": [
    "print(final.shape)\n",
    "final.Purchased.value_counts()"
   ]
  },
  {
   "cell_type": "markdown",
   "metadata": {},
   "source": [
    "####  train test split"
   ]
  },
  {
   "cell_type": "code",
   "execution_count": 79,
   "metadata": {},
   "outputs": [],
   "source": [
    "target=final.Purchased\n",
    "all_feature=final.drop(\"Purchased\",axis=1)\n",
    "x_train,x_test,y_train,y_test=train_test_split(all_feature,target,test_size=.2,random_state=1,stratify=target)"
   ]
  },
  {
   "cell_type": "code",
   "execution_count": 80,
   "metadata": {},
   "outputs": [
    {
     "data": {
      "text/plain": [
       "((773048, 28), (193262, 28), (773048,), (193262,))"
      ]
     },
     "execution_count": 80,
     "metadata": {},
     "output_type": "execute_result"
    }
   ],
   "source": [
    "x_train.shape,x_test.shape,y_train.shape,y_test.shape"
   ]
  },
  {
   "cell_type": "markdown",
   "metadata": {},
   "source": [
    "#  2. Modeling "
   ]
  },
  {
   "cell_type": "code",
   "execution_count": 81,
   "metadata": {},
   "outputs": [],
   "source": [
    "# function to get score\n",
    "def score(x_train,y_train,x_test,y_test,model):\n",
    "    \n",
    "    y_train_pred=model.predict(x_train)\n",
    "    y_test_pred=model.predict(x_test)\n",
    "    print(\"train_R2: {} \\n test_R2 :{}\".format(model.score(x_train,y_train),model.score(x_test,y_test)))\n",
    "    print(\"F-Score for test : {}\".format(f1_score(y_test,y_test_pred)))\n",
    "    print(\"test precision: {} and test recall: {}\".format(precision_score(y_test,y_test_pred),recall_score(y_test,y_test_pred)))\n",
    "    \n",
    "# #     print(\"Train score {}, Test score {}\".format(model.score(x_train,y_train),model.score(x_test,y_test))\n",
    "          \n",
    "# #     print(\"confusion matrix_train \\n\",confusion_matrix(y_train,y_train_pred))\n",
    "# #     print(\"confusion matrix_test \\n\",confusion_matrix(y_test,y_test_pred))\n",
    "#     print(\"train precision {} and train recall {}\".format(precision_score(y_train,y_train_pred),recall_score(y_train,y_train_pred)))\n",
    "#     print(\"test precision {} and test recall {}\".format(precision_score(y_test,y_test_pred),recall_score(y_test,y_test_pred)))\n",
    "#     print(\"train F-Score {} test F-Score {}\".format(f1_score(y_train,y_train_pred),f1_score(y_test,y_test_pred)))"
   ]
  },
  {
   "cell_type": "markdown",
   "metadata": {},
   "source": [
    "###### Linear model"
   ]
  },
  {
   "cell_type": "code",
   "execution_count": 82,
   "metadata": {},
   "outputs": [
    {
     "name": "stderr",
     "output_type": "stream",
     "text": [
      "C:\\Users\\agupta22\\Anaconda3\\lib\\site-packages\\sklearn\\linear_model\\_logistic.py:764: ConvergenceWarning: lbfgs failed to converge (status=1):\n",
      "STOP: TOTAL NO. of ITERATIONS REACHED LIMIT.\n",
      "\n",
      "Increase the number of iterations (max_iter) or scale the data as shown in:\n",
      "    https://scikit-learn.org/stable/modules/preprocessing.html\n",
      "Please also refer to the documentation for alternative solver options:\n",
      "    https://scikit-learn.org/stable/modules/linear_model.html#logistic-regression\n",
      "  extra_warning_msg=_LOGISTIC_SOLVER_CONVERGENCE_MSG)\n"
     ]
    },
    {
     "data": {
      "text/plain": [
       "LogisticRegression()"
      ]
     },
     "execution_count": 82,
     "metadata": {},
     "output_type": "execute_result"
    }
   ],
   "source": [
    "clas_LM=LogisticRegression()\n",
    "clas_LM.fit(x_train,y_train)"
   ]
  },
  {
   "cell_type": "code",
   "execution_count": 83,
   "metadata": {},
   "outputs": [
    {
     "name": "stdout",
     "output_type": "stream",
     "text": [
      "train_R2: 0.8488205130858627 \n",
      " test_R2 :0.8485372189049063\n",
      "F-Score for test : 0.8414558847424579\n",
      "test precision: 0.8971622604899345 and test recall: 0.7922628943261905\n"
     ]
    }
   ],
   "source": [
    "score(x_train,y_train,x_test,y_test,clas_LM)"
   ]
  },
  {
   "cell_type": "markdown",
   "metadata": {},
   "source": [
    "######  Random forest"
   ]
  },
  {
   "cell_type": "code",
   "execution_count": 84,
   "metadata": {},
   "outputs": [
    {
     "data": {
      "text/plain": [
       "RandomForestClassifier(oob_score=True)"
      ]
     },
     "execution_count": 84,
     "metadata": {},
     "output_type": "execute_result"
    }
   ],
   "source": [
    "clas_RF=RandomForestClassifier(oob_score=True)\n",
    "clas_RF.fit(x_train,y_train)"
   ]
  },
  {
   "cell_type": "code",
   "execution_count": 85,
   "metadata": {},
   "outputs": [
    {
     "data": {
      "text/plain": [
       "<AxesSubplot:>"
      ]
     },
     "execution_count": 85,
     "metadata": {},
     "output_type": "execute_result"
    },
    {
     "data": {
      "image/png": "[encoded data removed]",
      "text/plain": [
       "<Figure size 720x504 with 1 Axes>"
      ]
     },
     "metadata": {
      "needs_background": "light"
     },
     "output_type": "display_data"
    }
   ],
   "source": [
    "plt.figure(figsize=(10,7))\n",
    "pd.Series(clas_RF.feature_importances_,index=x_train.columns).sort_values(ascending=False).plot(kind=\"barh\")"
   ]
  },
  {
   "cell_type": "markdown",
   "metadata": {},
   "source": [
    "<div class=\"alert alert-block alert-success\">\n",
    "\n",
    "few variables like time spend on cart and product page , Number of click on cart and product page are most important variables"
   ]
  },
  {
   "cell_type": "code",
   "execution_count": 86,
   "metadata": {
    "scrolled": true
   },
   "outputs": [
    {
     "name": "stdout",
     "output_type": "stream",
     "text": [
      "train_R2: 0.9856050335813559 \n",
      " test_R2 :0.9623826722273391\n",
      "F-Score for test : 0.9634574206065968\n",
      "test precision: 0.9498409300389499 and test recall: 0.9774699888828827\n"
     ]
    }
   ],
   "source": [
    "# metrics on test\n",
    "score(x_train,y_train,x_test,y_test,clas_RF)"
   ]
  },
  {
   "cell_type": "code",
   "execution_count": null,
   "metadata": {},
   "outputs": [],
   "source": []
  },
  {
   "cell_type": "markdown",
   "metadata": {},
   "source": [
    "###### model Tunning "
   ]
  },
  {
   "cell_type": "code",
   "execution_count": null,
   "metadata": {},
   "outputs": [],
   "source": [
    "param={\"max_features\":range(5,8),\"max_depth\": range(2,5)}\n",
    "# ,\"min_samples_split\":[2,3,4,5,6],\"min_samples_leaf\":[2,3,4,5,6]"
   ]
  },
  {
   "cell_type": "code",
   "execution_count": null,
   "metadata": {},
   "outputs": [],
   "source": [
    "RF_cv=GridSearchCV(estimator=clas_RF,param_grid=param,scoring=\"f1\",cv=10,n_jobs=-1)\n",
    "RF_cv.fit(x_train,y_train)"
   ]
  },
  {
   "cell_type": "code",
   "execution_count": null,
   "metadata": {},
   "outputs": [],
   "source": [
    "# metrics on test\n",
    "score(x_train,y_train,x_test,y_test,RF_cv)"
   ]
  },
  {
   "cell_type": "code",
   "execution_count": null,
   "metadata": {},
   "outputs": [],
   "source": [
    "RF_cv.best_params_"
   ]
  },
  {
   "cell_type": "code",
   "execution_count": null,
   "metadata": {},
   "outputs": [],
   "source": [
    "RF_cv.best_score_"
   ]
  },
  {
   "cell_type": "code",
   "execution_count": null,
   "metadata": {},
   "outputs": [],
   "source": [
    "# tunning is not helping in increasing performance .\n",
    "# RF without tune is taken as final model."
   ]
  },
  {
   "cell_type": "markdown",
   "metadata": {},
   "source": [
    "## Probability of user to purchase the product"
   ]
  },
  {
   "cell_type": "code",
   "execution_count": 87,
   "metadata": {},
   "outputs": [],
   "source": [
    "\n",
    "all_user=final_copy.drop(labels=\"prod_id\",axis=1)\n",
    "x_all_user=all_user.drop(labels=[\"user_id\"],axis=1)"
   ]
  },
  {
   "cell_type": "code",
   "execution_count": 89,
   "metadata": {},
   "outputs": [],
   "source": [
    "user_probability=pd.Series(index=all_user.user_id,data=clas_RF.predict_proba(x_all_user)[:,0])"
   ]
  },
  {
   "cell_type": "code",
   "execution_count": 90,
   "metadata": {},
   "outputs": [
    {
     "data": {
      "text/plain": [
       "(516927,)"
      ]
     },
     "execution_count": 90,
     "metadata": {},
     "output_type": "execute_result"
    }
   ],
   "source": [
    "user_probability.shape"
   ]
  },
  {
   "cell_type": "code",
   "execution_count": 91,
   "metadata": {},
   "outputs": [
    {
     "data": {
      "text/plain": [
       "user_id\n",
       "342391        1.00\n",
       "420372        1.00\n",
       "915687        1.00\n",
       "453960484     0.99\n",
       "2941287703    0.00\n",
       "dtype: float64"
      ]
     },
     "execution_count": 91,
     "metadata": {},
     "output_type": "execute_result"
    }
   ],
   "source": [
    "user_probability.head(5)"
   ]
  },
  {
   "cell_type": "code",
   "execution_count": 95,
   "metadata": {},
   "outputs": [],
   "source": [
    "user_probability.to_csv(\"user_probability.csv\",header=\"Probability\")"
   ]
  }
 ],
 "metadata": {
  "kernelspec": {
   "display_name": "Python 3",
   "language": "python",
   "name": "python3"
  },
  "language_info": {
   "codemirror_mode": {
    "name": "ipython",
    "version": 3
   },
   "file_extension": ".py",
   "mimetype": "text/x-python",
   "name": "python",
   "nbconvert_exporter": "python",
   "pygments_lexer": "ipython3",
   "version": "3.8.8"
  }
 },
 "nbformat": 4,
 "nbformat_minor": 4
}
